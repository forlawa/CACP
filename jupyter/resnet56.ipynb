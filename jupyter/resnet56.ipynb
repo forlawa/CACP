{
 "cells": [
  {
   "cell_type": "markdown",
   "metadata": {},
   "source": [
    "# Resnet 56 - CIFAR10\n",
    "\n",
    "## Comparing multiple executions\n",
    "\n",
    "* How stable is the ranking of discovered networks?\n",
    " \n",
    " \n",
    "Let's run 4 instances of AMC (ResNet56, DDPG) and then review the results."
   ]
  },
  {
   "cell_type": "markdown",
   "metadata": {},
   "source": [
    "## Multiple experiment runs\n",
    "\n",
    "Below we plot the execution of the same experiment several times.<br>\n",
    "We configure AMC as follows:\n",
    "- Architecture: Resnet56 (CIFAR10)\n",
    "- Action range: 5% - 100% retain rate\n",
    "- Target density: 50%\n",
    "- Don't fine-tune a discovered network before providing a reward.\n",
    "\n",
    "The command-line is provided below:\n",
    "    \n",
    "    time python3 multi-run.py /home/young/liuyixin/CAMC_disllter/experiments/resnet56-ddpg-private amc.py  --arch=resnet56_cifar /home/dataset/cifar --state_dict=/home/young/liuyixin/CAMC_disllter/checkpoints/pytorch_resnet_cifar10/cifar10-resnet56-f5939a66.pth --amc-protocol=mac-constrained --amc-action-range 0.05 1.0 --amc-target-density=0.5 -p=50 --etes=0.075 --amc-ft-epochs=0 --amc-prune-pattern=channels --amc-prune-method=fm-reconstruction --amc-agent-algo=DDPG --amc-cfg=auto_compression_channels.yaml --amc-rllib=hanlab -j=1\n",
    "    \n",
    "Each colored line represents one experiment execution instance. We plot the search-Top1 score of discovered networks as the RL-based AMC system learns to find better compressed networks. You might be impressed by:\n",
    "* The variability in behavior, which is typical for RL algorithms.\n",
    " "
   ]
  },
  {
   "cell_type": "code",
   "execution_count": 1,
   "metadata": {},
   "outputs": [],
   "source": [
    "%matplotlib inline\n",
    "\n",
    "import numpy as np\n",
    "import pandas as pd \n",
    "import matplotlib.pyplot as plt\n",
    "import matplotlib \n",
    "import csv\n",
    "from matplotlib.ticker import FuncFormatter\n",
    "import ipywidgets as widgets\n",
    "from ipywidgets import interactive, interact, Layout\n",
    "import matplotlib.pylab as pylab\n",
    "import matplotlib.animation as animation\n",
    "from matplotlib import animation, rc\n",
    "\n",
    "from auto_compression_jupyter import *\n",
    "\n",
    "#plt.style.use('seaborn') # pretty matplotlib plots\n",
    "\n",
    "params = {'legend.fontsize': 'x-large',\n",
    "          'figure.figsize': (15, 7),\n",
    "          'axes.labelsize': 'x-large',\n",
    "          'axes.titlesize':'xx-large',\n",
    "          'xtick.labelsize':'x-large',\n",
    "          'ytick.labelsize':'x-large'}\n",
    "pylab.rcParams.update(params)\n",
    "\n",
    "    \n",
    "# Widen the cells to get entire rows in the screen.\n",
    "from IPython.core.display import display, HTML\n",
    "#display(HTML(\"<style>.container { width:100% !important; }</style>\"))\n",
    "\n",
    "EXPERIMENTS_DIR = \"/home/young/liuyixin/CAMC_disllter/experiments\""
   ]
  },
  {
   "cell_type": "code",
   "execution_count": 2,
   "metadata": {},
   "outputs": [],
   "source": [
    "fpath = os.path.join(EXPERIMENTS_DIR, \"resnet20-ddpg-private\", \"2020.09.15-193705\")\n",
    "df_list = load_experiment_instances(fpath)"
   ]
  },
  {
   "cell_type": "code",
   "execution_count": null,
   "metadata": {},
   "outputs": [],
   "source": []
  }
 ],
 "metadata": {
  "kernelspec": {
   "display_name": "Python 3.7.3 64-bit ('distiller': conda)",
   "language": "python",
   "name": "python37364bitdistillerconda4beb68b9e2384f2cbfa8884ddd0e8799"
  },
  "language_info": {
   "codemirror_mode": {
    "name": "ipython",
    "version": 3
   },
   "file_extension": ".py",
   "mimetype": "text/x-python",
   "name": "python",
   "nbconvert_exporter": "python",
   "pygments_lexer": "ipython3",
   "version": "3.7.3"
  }
 },
 "nbformat": 4,
 "nbformat_minor": 4
}
